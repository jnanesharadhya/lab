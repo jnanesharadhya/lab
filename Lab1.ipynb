{
 "cells": [
  {
   "cell_type": "markdown",
   "id": "4fac836e",
   "metadata": {},
   "source": [
    "## A* Algorithm"
   ]
  },
  {
   "cell_type": "code",
   "execution_count": 4,
   "id": "2726cae2",
   "metadata": {},
   "outputs": [
    {
     "name": "stdout",
     "output_type": "stream",
     "text": [
      "Path found: ['A', 'E']\n"
     ]
    },
    {
     "data": {
      "text/plain": [
       "['A', 'E']"
      ]
     },
     "execution_count": 4,
     "metadata": {},
     "output_type": "execute_result"
    }
   ],
   "source": [
    "def astaralgo(start_node,stop_node):\n",
    "    open_set = set(start_node)\n",
    "    close_set = set()\n",
    "    g = {}\n",
    "    parent = {}\n",
    "    \n",
    "    g[start_node] = 0\n",
    "    parent[start_node] = start_node\n",
    "    \n",
    "    while len(open_set) > 0:\n",
    "        n = None\n",
    "        \n",
    "        for v in open_set:\n",
    "            if n == None or g[v]+heuristic(v) < g[n] + heuristic(v):\n",
    "                n = v\n",
    "        \n",
    "        if n == stop_node or graph_node[n] == None:\n",
    "            pass\n",
    "        else:\n",
    "            for (m,weight) in get_negh(n):\n",
    "                if m not in open_set and m not in close_set:\n",
    "                    open_set.add(m)\n",
    "                    parent[m] = n\n",
    "                    g[m] = g[n] + weight\n",
    "\n",
    "                else:\n",
    "                    if g[m] > g[n]+weight:\n",
    "                        g[m] = g[n] + weight\n",
    "                        parent[m] = n\n",
    "\n",
    "                        if m in close_set:\n",
    "                            close_set.remove(m)\n",
    "                            open_set.add(m)\n",
    "\n",
    "        \n",
    "        if n == stop_node:\n",
    "            path = []\n",
    "\n",
    "            while parent[n] != n:\n",
    "                path.append(n)\n",
    "                n = parent[n]\n",
    "            path.append(start_node)\n",
    "            path.reverse()\n",
    "\n",
    "            print(\"Path found: {}\".format(path))\n",
    "            return path\n",
    "        open_set.remove(n)\n",
    "        close_set.add(n)\n",
    "    print('Path does not exist!')\n",
    "    return None\n",
    "\n",
    "\n",
    "def heuristic(n):\n",
    "        H_dist = {'A': 11,'B': 6,'C': 99,'D': 1,'E': 7,'G': 0}\n",
    "        return H_dist[n]\n",
    "    \n",
    "    \n",
    "def get_negh(v):\n",
    "    if v in graph_node:\n",
    "        return graph_node[v]\n",
    "    else:\n",
    "        return None  \n",
    "    \n",
    "graph_node = {'A':[('B',2),('E',3)],\n",
    "              'B':[('C',1),('G',9)],\n",
    "              'C':None,\n",
    "              'D':[('G',1)],\n",
    "              'E':[('D',6)]\n",
    "             }\n",
    "\n",
    "astaralgo('A', 'E')\n"
   ]
  },
  {
   "cell_type": "code",
   "execution_count": null,
   "id": "71fe2458",
   "metadata": {},
   "outputs": [],
   "source": []
  }
 ],
 "metadata": {
  "kernelspec": {
   "display_name": "Python 3",
   "language": "python",
   "name": "python3"
  },
  "language_info": {
   "codemirror_mode": {
    "name": "ipython",
    "version": 3
   },
   "file_extension": ".py",
   "mimetype": "text/x-python",
   "name": "python",
   "nbconvert_exporter": "python",
   "pygments_lexer": "ipython3",
   "version": "3.8.8"
  }
 },
 "nbformat": 4,
 "nbformat_minor": 5
}
