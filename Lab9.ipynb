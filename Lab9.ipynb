{
 "cells": [
  {
   "cell_type": "markdown",
   "id": "e4706cc1",
   "metadata": {},
   "source": [
    "# Locally Weighted Regression Algorithm"
   ]
  },
  {
   "cell_type": "code",
   "execution_count": 11,
   "id": "330aab85",
   "metadata": {},
   "outputs": [],
   "source": [
    "import pandas as pd\n",
    "import numpy as np\n",
    "import matplotlib.pyplot as plt"
   ]
  },
  {
   "cell_type": "code",
   "execution_count": 12,
   "id": "b367b86f",
   "metadata": {},
   "outputs": [],
   "source": [
    "def kernel(point, xmat, k):\n",
    "    m,n = np.shape(xmat)\n",
    "    weights = np.mat(np.eye(m))\n",
    "    for j in range(m):\n",
    "        diff = point - xmat[j]\n",
    "        weights[j,j] = np.exp(diff*diff.T/(-2.0*k**2))\n",
    "    return weights"
   ]
  },
  {
   "cell_type": "code",
   "execution_count": 13,
   "id": "fad62181",
   "metadata": {},
   "outputs": [],
   "source": [
    "def localWeight(point, xmat, ymat, k):\n",
    "    wei = kernel(point,xmat,k)\n",
    "    W = (xmat.T*(wei*xmat)).I*(xmat.T*(wei*ymat.T))\n",
    "    return W  "
   ]
  },
  {
   "cell_type": "code",
   "execution_count": 14,
   "id": "1951aa06",
   "metadata": {},
   "outputs": [],
   "source": [
    "def localWeightRegression(xmat, ymat, k):\n",
    "    m,n = np.shape(xmat)\n",
    "    ypred = np.zeros(m)\n",
    "    for i in range(m):\n",
    "        ypred[i] = xmat[i]*localWeight(xmat[i],xmat,ymat,k)\n",
    "    return ypred"
   ]
  },
  {
   "cell_type": "code",
   "execution_count": 15,
   "id": "6950e9ba",
   "metadata": {},
   "outputs": [],
   "source": [
    "data = pd.read_csv('tips.csv')\n",
    "bill = np.array(data.total_bill)\n",
    "tip = np.array(data.tip)\n",
    "mbill = np.mat(bill)\n",
    "mtip = np.mat(tip)\n",
    "m = np.shape(mbill)[1]  \n",
    "one = np.mat(np.ones(m))\n",
    "X = np.hstack((one.T,mbill.T))\n",
    "ypred = localWeightRegression(X,mtip,2)\n",
    "SortIndex = X[:,1].argsort(0)\n",
    "xsort = X[SortIndex][:,0]"
   ]
  },
  {
   "cell_type": "code",
   "execution_count": 16,
   "id": "6de28567",
   "metadata": {},
   "outputs": [
    {
     "data": {
      "image/png": "[encoded data removed]",
      "text/plain": [
       "<Figure size 432x288 with 1 Axes>"
      ]
     },
     "metadata": {
      "needs_background": "light"
     },
     "output_type": "display_data"
    }
   ],
   "source": [
    "fig = plt.figure()\n",
    "ax = fig.add_subplot(1,1,1)\n",
    "ax.scatter(bill,tip, color='green')\n",
    "ax.plot(xsort[:,1],ypred[SortIndex], color = 'red', linewidth=3)\n",
    "plt.xlabel('Total bill')\n",
    "plt.ylabel('Tip')\n",
    "plt.show();"
   ]
  },
  {
   "cell_type": "code",
   "execution_count": null,
   "id": "16d49820",
   "metadata": {},
   "outputs": [],
   "source": []
  },
  {
   "cell_type": "code",
   "execution_count": null,
   "id": "1c171248",
   "metadata": {},
   "outputs": [],
   "source": []
  }
 ],
 "metadata": {
  "kernelspec": {
   "display_name": "Python 3",
   "language": "python",
   "name": "python3"
  },
  "language_info": {
   "codemirror_mode": {
    "name": "ipython",
    "version": 3
   },
   "file_extension": ".py",
   "mimetype": "text/x-python",
   "name": "python",
   "nbconvert_exporter": "python",
   "pygments_lexer": "ipython3",
   "version": "3.8.8"
  }
 },
 "nbformat": 4,
 "nbformat_minor": 5
}
