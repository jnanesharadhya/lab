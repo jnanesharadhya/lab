{
 "cells": [
  {
   "cell_type": "markdown",
   "id": "c8c13646",
   "metadata": {},
   "source": [
    "# Candidate Elimination Algorithm"
   ]
  },
  {
   "cell_type": "code",
   "execution_count": 2,
   "id": "2850ef97",
   "metadata": {},
   "outputs": [
    {
     "name": "stdout",
     "output_type": "stream",
     "text": [
      "[['circular' 'large' 'light' 'smooth' 'thick']\n",
      " ['circular' 'large' 'light' 'irregular' 'thick']\n",
      " ['oval' 'large' 'dark' 'smooth' 'thin']\n",
      " ['oval' 'large' 'light' 'irregular' 'thick']\n",
      " ['circular' 'small' 'light' 'smooth' 'thick']]\n"
     ]
    }
   ],
   "source": [
    "import numpy as np\n",
    "import pandas as pd\n",
    "\n",
    "data = pd.DataFrame(pd.read_csv(\"cancer.csv\"))\n",
    "concepts = np.array(data.iloc[:,0:-1])\n",
    "print(concepts)"
   ]
  },
  {
   "cell_type": "code",
   "execution_count": 3,
   "id": "756d428a",
   "metadata": {},
   "outputs": [
    {
     "name": "stdout",
     "output_type": "stream",
     "text": [
      "['yes' 'yes' 'no' 'yes' 'no']\n"
     ]
    }
   ],
   "source": [
    "target = np.array(data.iloc[:,-1])\n",
    "print(target)"
   ]
  },
  {
   "cell_type": "code",
   "execution_count": 4,
   "id": "b61219e8",
   "metadata": {},
   "outputs": [],
   "source": [
    "def learn(concept,target):\n",
    "    specific_h = concepts[0].copy()\n",
    "    print(\"Initialization of specific_h and general_h\")\n",
    "    \n",
    "    print(\"Specific_h : \",specific_h)\n",
    "    general_h = [[\"?\" for i in range(len(specific_h))] for i in range(len(specific_h))]\n",
    "    print()\n",
    "    print(\"General_h : \",general_h)\n",
    "    \n",
    "    for i,h in enumerate(concepts):\n",
    "        if target[i] == \"yes\":\n",
    "            for x in range(len(specific_h)):\n",
    "                if h[x] != specific_h[x]:\n",
    "                    specific_h[x] = \"?\"\n",
    "                    general_h[x][x] = \"?\"\n",
    "        if target[i] == \"no\":\n",
    "            for x in range(len(specific_h)):\n",
    "                if h[x] != specific_h[x]:\n",
    "                    general_h[x][x] = specific_h[x]\n",
    "                else:\n",
    "                    general_h[x][x] = \"?\"\n",
    "        print(\"\\nSteps of candidate elimination algorithm\",i+1)\n",
    "        print(\"\\nSpecific_h : \",specific_h)\n",
    "        print(\"\\nGeneral_h : \",general_h)\n",
    "        \n",
    "        \n",
    "    indices = [i for i,val in enumerate(general_h) if val == [\"?\",\"?\",\"?\",\"?\",\"?\",\"?\"]]\n",
    "    for i in indices:\n",
    "        general_h.remove([\"?\",\"?\",\"?\",\"?\",\"?\",\"?\"])\n",
    "        \n",
    "    return specific_h,general_h\n"
   ]
  },
  {
   "cell_type": "code",
   "execution_count": 5,
   "id": "4774e975",
   "metadata": {},
   "outputs": [
    {
     "name": "stdout",
     "output_type": "stream",
     "text": [
      "Initialization of specific_h and general_h\n",
      "Specific_h :  ['circular' 'large' 'light' 'smooth' 'thick']\n",
      "\n",
      "General_h :  [['?', '?', '?', '?', '?'], ['?', '?', '?', '?', '?'], ['?', '?', '?', '?', '?'], ['?', '?', '?', '?', '?'], ['?', '?', '?', '?', '?']]\n",
      "\n",
      "Steps of candidate elimination algorithm 1\n",
      "\n",
      "Specific_h :  ['circular' 'large' 'light' 'smooth' 'thick']\n",
      "\n",
      "General_h :  [['?', '?', '?', '?', '?'], ['?', '?', '?', '?', '?'], ['?', '?', '?', '?', '?'], ['?', '?', '?', '?', '?'], ['?', '?', '?', '?', '?']]\n",
      "\n",
      "Steps of candidate elimination algorithm 2\n",
      "\n",
      "Specific_h :  ['circular' 'large' 'light' '?' 'thick']\n",
      "\n",
      "General_h :  [['?', '?', '?', '?', '?'], ['?', '?', '?', '?', '?'], ['?', '?', '?', '?', '?'], ['?', '?', '?', '?', '?'], ['?', '?', '?', '?', '?']]\n",
      "\n",
      "Steps of candidate elimination algorithm 3\n",
      "\n",
      "Specific_h :  ['circular' 'large' 'light' '?' 'thick']\n",
      "\n",
      "General_h :  [['circular', '?', '?', '?', '?'], ['?', '?', '?', '?', '?'], ['?', '?', 'light', '?', '?'], ['?', '?', '?', '?', '?'], ['?', '?', '?', '?', 'thick']]\n",
      "\n",
      "Steps of candidate elimination algorithm 4\n",
      "\n",
      "Specific_h :  ['?' 'large' 'light' '?' 'thick']\n",
      "\n",
      "General_h :  [['?', '?', '?', '?', '?'], ['?', '?', '?', '?', '?'], ['?', '?', 'light', '?', '?'], ['?', '?', '?', '?', '?'], ['?', '?', '?', '?', 'thick']]\n",
      "\n",
      "Steps of candidate elimination algorithm 5\n",
      "\n",
      "Specific_h :  ['?' 'large' 'light' '?' 'thick']\n",
      "\n",
      "General_h :  [['?', '?', '?', '?', '?'], ['?', 'large', '?', '?', '?'], ['?', '?', '?', '?', '?'], ['?', '?', '?', '?', '?'], ['?', '?', '?', '?', '?']]\n",
      "\n",
      "Final Specific_h : \n",
      "['?' 'large' 'light' '?' 'thick']\n",
      "Final Genaral_h : \n",
      "[['?', '?', '?', '?', '?'], ['?', 'large', '?', '?', '?'], ['?', '?', '?', '?', '?'], ['?', '?', '?', '?', '?'], ['?', '?', '?', '?', '?']]\n"
     ]
    }
   ],
   "source": [
    "s_final,g_final = learn(concepts,target)\n",
    "print()\n",
    "print(\"Final Specific_h : \",s_final,sep = \"\\n\")\n",
    "print(\"Final Genaral_h : \",g_final,sep = \"\\n\")"
   ]
  },
  {
   "cell_type": "code",
   "execution_count": null,
   "id": "434f34e6",
   "metadata": {},
   "outputs": [],
   "source": []
  },
  {
   "cell_type": "code",
   "execution_count": null,
   "id": "2aae6da5",
   "metadata": {},
   "outputs": [],
   "source": [
    "\n"
   ]
  },
  {
   "cell_type": "code",
   "execution_count": null,
   "id": "063aafac",
   "metadata": {},
   "outputs": [],
   "source": []
  }
 ],
 "metadata": {
  "kernelspec": {
   "display_name": "Python 3",
   "language": "python",
   "name": "python3"
  },
  "language_info": {
   "codemirror_mode": {
    "name": "ipython",
    "version": 3
   },
   "file_extension": ".py",
   "mimetype": "text/x-python",
   "name": "python",
   "nbconvert_exporter": "python",
   "pygments_lexer": "ipython3",
   "version": "3.8.8"
  }
 },
 "nbformat": 4,
 "nbformat_minor": 5
}
